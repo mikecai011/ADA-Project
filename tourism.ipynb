{
 "cells": [
  {
   "cell_type": "markdown",
   "metadata": {},
   "source": [
    "We want to see the **trend of transportation** for travelling in Europe for the last five years."
   ]
  },
  {
   "cell_type": "markdown",
   "metadata": {},
   "source": [
    "## Import libraries"
   ]
  },
  {
   "cell_type": "code",
   "execution_count": 477,
   "metadata": {},
   "outputs": [],
   "source": [
    "import pandas as pd\n",
    "pd.set_option(\"display.max_rows\", 101)"
   ]
  },
  {
   "cell_type": "markdown",
   "metadata": {},
   "source": [
    "## Data preprocessing"
   ]
  },
  {
   "cell_type": "code",
   "execution_count": 543,
   "metadata": {},
   "outputs": [
    {
     "data": {
      "text/html": [
       "<div>\n",
       "<style scoped>\n",
       "    .dataframe tbody tr th:only-of-type {\n",
       "        vertical-align: middle;\n",
       "    }\n",
       "\n",
       "    .dataframe tbody tr th {\n",
       "        vertical-align: top;\n",
       "    }\n",
       "\n",
       "    .dataframe thead th {\n",
       "        text-align: right;\n",
       "    }\n",
       "</style>\n",
       "<table border=\"1\" class=\"dataframe\">\n",
       "  <thead>\n",
       "    <tr style=\"text-align: right;\">\n",
       "      <th></th>\n",
       "      <th>TIME</th>\n",
       "      <th>GEO</th>\n",
       "      <th>UNIT</th>\n",
       "      <th>PURPOSE</th>\n",
       "      <th>DURATION</th>\n",
       "      <th>PARTNER</th>\n",
       "      <th>TRA_MODE</th>\n",
       "      <th>Value</th>\n",
       "      <th>Flag and Footnotes</th>\n",
       "    </tr>\n",
       "  </thead>\n",
       "  <tbody>\n",
       "    <tr>\n",
       "      <th>0</th>\n",
       "      <td>2014</td>\n",
       "      <td>Belgium</td>\n",
       "      <td>Number</td>\n",
       "      <td>Total</td>\n",
       "      <td>1 night or over</td>\n",
       "      <td>Domestic</td>\n",
       "      <td>Total</td>\n",
       "      <td>2,253,573</td>\n",
       "      <td>NaN</td>\n",
       "    </tr>\n",
       "    <tr>\n",
       "      <th>1</th>\n",
       "      <td>2014</td>\n",
       "      <td>Belgium</td>\n",
       "      <td>Number</td>\n",
       "      <td>Total</td>\n",
       "      <td>1 night or over</td>\n",
       "      <td>Domestic</td>\n",
       "      <td>Air</td>\n",
       "      <td>:</td>\n",
       "      <td>NaN</td>\n",
       "    </tr>\n",
       "    <tr>\n",
       "      <th>2</th>\n",
       "      <td>2014</td>\n",
       "      <td>Belgium</td>\n",
       "      <td>Number</td>\n",
       "      <td>Total</td>\n",
       "      <td>1 night or over</td>\n",
       "      <td>Domestic</td>\n",
       "      <td>Land</td>\n",
       "      <td>2,250,733</td>\n",
       "      <td>NaN</td>\n",
       "    </tr>\n",
       "    <tr>\n",
       "      <th>3</th>\n",
       "      <td>2014</td>\n",
       "      <td>Belgium</td>\n",
       "      <td>Number</td>\n",
       "      <td>Total</td>\n",
       "      <td>1 night or over</td>\n",
       "      <td>Domestic</td>\n",
       "      <td>Railways</td>\n",
       "      <td>192,750</td>\n",
       "      <td>NaN</td>\n",
       "    </tr>\n",
       "    <tr>\n",
       "      <th>4</th>\n",
       "      <td>2014</td>\n",
       "      <td>Belgium</td>\n",
       "      <td>Number</td>\n",
       "      <td>Total</td>\n",
       "      <td>1 night or over</td>\n",
       "      <td>Domestic</td>\n",
       "      <td>Bus, coach</td>\n",
       "      <td>47,937</td>\n",
       "      <td>u</td>\n",
       "    </tr>\n",
       "    <tr>\n",
       "      <th>...</th>\n",
       "      <td>...</td>\n",
       "      <td>...</td>\n",
       "      <td>...</td>\n",
       "      <td>...</td>\n",
       "      <td>...</td>\n",
       "      <td>...</td>\n",
       "      <td>...</td>\n",
       "      <td>...</td>\n",
       "      <td>...</td>\n",
       "    </tr>\n",
       "    <tr>\n",
       "      <th>26455</th>\n",
       "      <td>2018</td>\n",
       "      <td>Switzerland</td>\n",
       "      <td>Number</td>\n",
       "      <td>Professional, business</td>\n",
       "      <td>4 nights or over</td>\n",
       "      <td>All countries of the world</td>\n",
       "      <td>Land</td>\n",
       "      <td>136,167</td>\n",
       "      <td>u</td>\n",
       "    </tr>\n",
       "    <tr>\n",
       "      <th>26456</th>\n",
       "      <td>2018</td>\n",
       "      <td>Switzerland</td>\n",
       "      <td>Number</td>\n",
       "      <td>Professional, business</td>\n",
       "      <td>4 nights or over</td>\n",
       "      <td>All countries of the world</td>\n",
       "      <td>Railways</td>\n",
       "      <td>:</td>\n",
       "      <td>c</td>\n",
       "    </tr>\n",
       "    <tr>\n",
       "      <th>26457</th>\n",
       "      <td>2018</td>\n",
       "      <td>Switzerland</td>\n",
       "      <td>Number</td>\n",
       "      <td>Professional, business</td>\n",
       "      <td>4 nights or over</td>\n",
       "      <td>All countries of the world</td>\n",
       "      <td>Bus, coach</td>\n",
       "      <td>:</td>\n",
       "      <td>c</td>\n",
       "    </tr>\n",
       "    <tr>\n",
       "      <th>26458</th>\n",
       "      <td>2018</td>\n",
       "      <td>Switzerland</td>\n",
       "      <td>Number</td>\n",
       "      <td>Professional, business</td>\n",
       "      <td>4 nights or over</td>\n",
       "      <td>All countries of the world</td>\n",
       "      <td>Motor vehicle</td>\n",
       "      <td>:</td>\n",
       "      <td>c</td>\n",
       "    </tr>\n",
       "    <tr>\n",
       "      <th>26459</th>\n",
       "      <td>2018</td>\n",
       "      <td>Switzerland</td>\n",
       "      <td>Number</td>\n",
       "      <td>Professional, business</td>\n",
       "      <td>4 nights or over</td>\n",
       "      <td>All countries of the world</td>\n",
       "      <td>Waterway</td>\n",
       "      <td>:</td>\n",
       "      <td>NaN</td>\n",
       "    </tr>\n",
       "  </tbody>\n",
       "</table>\n",
       "<p>26460 rows × 9 columns</p>\n",
       "</div>"
      ],
      "text/plain": [
       "       TIME          GEO    UNIT                 PURPOSE          DURATION  \\\n",
       "0      2014      Belgium  Number                   Total   1 night or over   \n",
       "1      2014      Belgium  Number                   Total   1 night or over   \n",
       "2      2014      Belgium  Number                   Total   1 night or over   \n",
       "3      2014      Belgium  Number                   Total   1 night or over   \n",
       "4      2014      Belgium  Number                   Total   1 night or over   \n",
       "...     ...          ...     ...                     ...               ...   \n",
       "26455  2018  Switzerland  Number  Professional, business  4 nights or over   \n",
       "26456  2018  Switzerland  Number  Professional, business  4 nights or over   \n",
       "26457  2018  Switzerland  Number  Professional, business  4 nights or over   \n",
       "26458  2018  Switzerland  Number  Professional, business  4 nights or over   \n",
       "26459  2018  Switzerland  Number  Professional, business  4 nights or over   \n",
       "\n",
       "                          PARTNER       TRA_MODE      Value Flag and Footnotes  \n",
       "0                        Domestic          Total  2,253,573                NaN  \n",
       "1                        Domestic            Air          :                NaN  \n",
       "2                        Domestic           Land  2,250,733                NaN  \n",
       "3                        Domestic       Railways    192,750                NaN  \n",
       "4                        Domestic     Bus, coach     47,937                  u  \n",
       "...                           ...            ...        ...                ...  \n",
       "26455  All countries of the world           Land    136,167                  u  \n",
       "26456  All countries of the world       Railways          :                  c  \n",
       "26457  All countries of the world     Bus, coach          :                  c  \n",
       "26458  All countries of the world  Motor vehicle          :                  c  \n",
       "26459  All countries of the world       Waterway          :                NaN  \n",
       "\n",
       "[26460 rows x 9 columns]"
      ]
     },
     "execution_count": 543,
     "metadata": {},
     "output_type": "execute_result"
    }
   ],
   "source": [
    "# read original data from csv file\n",
    "ori_data = pd.read_csv('data/tour_dem_tttr_1_Data.csv')\n",
    "ori_data"
   ]
  },
  {
   "cell_type": "code",
   "execution_count": 518,
   "metadata": {},
   "outputs": [],
   "source": [
    "# rename columns\n",
    "ori_data.columns = ['Time', 'Country', 'Unit', 'Purpose', 'Duration', 'Partner', 'Transportation', 'NumTrip', 'Flag']"
   ]
  },
  {
   "cell_type": "code",
   "execution_count": 519,
   "metadata": {},
   "outputs": [
    {
     "data": {
      "text/html": [
       "<div>\n",
       "<style scoped>\n",
       "    .dataframe tbody tr th:only-of-type {\n",
       "        vertical-align: middle;\n",
       "    }\n",
       "\n",
       "    .dataframe tbody tr th {\n",
       "        vertical-align: top;\n",
       "    }\n",
       "\n",
       "    .dataframe thead th {\n",
       "        text-align: right;\n",
       "    }\n",
       "</style>\n",
       "<table border=\"1\" class=\"dataframe\">\n",
       "  <thead>\n",
       "    <tr style=\"text-align: right;\">\n",
       "      <th></th>\n",
       "      <th>Time</th>\n",
       "      <th>Country</th>\n",
       "      <th>Unit</th>\n",
       "      <th>Purpose</th>\n",
       "      <th>Duration</th>\n",
       "      <th>Partner</th>\n",
       "      <th>Transportation</th>\n",
       "      <th>NumTrip</th>\n",
       "      <th>Flag</th>\n",
       "    </tr>\n",
       "  </thead>\n",
       "  <tbody>\n",
       "    <tr>\n",
       "      <th>0</th>\n",
       "      <td>2014</td>\n",
       "      <td>Belgium</td>\n",
       "      <td>Number</td>\n",
       "      <td>Total</td>\n",
       "      <td>1 night or over</td>\n",
       "      <td>Domestic</td>\n",
       "      <td>Total</td>\n",
       "      <td>2,253,573</td>\n",
       "      <td>NaN</td>\n",
       "    </tr>\n",
       "    <tr>\n",
       "      <th>2</th>\n",
       "      <td>2014</td>\n",
       "      <td>Belgium</td>\n",
       "      <td>Number</td>\n",
       "      <td>Total</td>\n",
       "      <td>1 night or over</td>\n",
       "      <td>Domestic</td>\n",
       "      <td>Land</td>\n",
       "      <td>2,250,733</td>\n",
       "      <td>NaN</td>\n",
       "    </tr>\n",
       "    <tr>\n",
       "      <th>3</th>\n",
       "      <td>2014</td>\n",
       "      <td>Belgium</td>\n",
       "      <td>Number</td>\n",
       "      <td>Total</td>\n",
       "      <td>1 night or over</td>\n",
       "      <td>Domestic</td>\n",
       "      <td>Railways</td>\n",
       "      <td>192,750</td>\n",
       "      <td>NaN</td>\n",
       "    </tr>\n",
       "    <tr>\n",
       "      <th>4</th>\n",
       "      <td>2014</td>\n",
       "      <td>Belgium</td>\n",
       "      <td>Number</td>\n",
       "      <td>Total</td>\n",
       "      <td>1 night or over</td>\n",
       "      <td>Domestic</td>\n",
       "      <td>Bus, coach</td>\n",
       "      <td>47,937</td>\n",
       "      <td>u</td>\n",
       "    </tr>\n",
       "    <tr>\n",
       "      <th>5</th>\n",
       "      <td>2014</td>\n",
       "      <td>Belgium</td>\n",
       "      <td>Number</td>\n",
       "      <td>Total</td>\n",
       "      <td>1 night or over</td>\n",
       "      <td>Domestic</td>\n",
       "      <td>Motor vehicle</td>\n",
       "      <td>1,993,400</td>\n",
       "      <td>NaN</td>\n",
       "    </tr>\n",
       "  </tbody>\n",
       "</table>\n",
       "</div>"
      ],
      "text/plain": [
       "   Time  Country    Unit Purpose         Duration   Partner Transportation  \\\n",
       "0  2014  Belgium  Number   Total  1 night or over  Domestic          Total   \n",
       "2  2014  Belgium  Number   Total  1 night or over  Domestic           Land   \n",
       "3  2014  Belgium  Number   Total  1 night or over  Domestic       Railways   \n",
       "4  2014  Belgium  Number   Total  1 night or over  Domestic     Bus, coach   \n",
       "5  2014  Belgium  Number   Total  1 night or over  Domestic  Motor vehicle   \n",
       "\n",
       "     NumTrip Flag  \n",
       "0  2,253,573  NaN  \n",
       "2  2,250,733  NaN  \n",
       "3    192,750  NaN  \n",
       "4     47,937    u  \n",
       "5  1,993,400  NaN  "
      ]
     },
     "execution_count": 519,
     "metadata": {},
     "output_type": "execute_result"
    }
   ],
   "source": [
    "# remove rows with missing NumTrip\n",
    "data = ori_data[ori_data.NumTrip != \":\"]\n",
    "data.head()"
   ]
  },
  {
   "cell_type": "code",
   "execution_count": 520,
   "metadata": {},
   "outputs": [
    {
     "name": "stderr",
     "output_type": "stream",
     "text": [
      "C:\\Users\\clair\\Anaconda3\\lib\\site-packages\\ipykernel_launcher.py:1: SettingWithCopyWarning: \n",
      "A value is trying to be set on a copy of a slice from a DataFrame.\n",
      "Try using .loc[row_indexer,col_indexer] = value instead\n",
      "\n",
      "See the caveats in the documentation: http://pandas.pydata.org/pandas-docs/stable/user_guide/indexing.html#returning-a-view-versus-a-copy\n",
      "  \"\"\"Entry point for launching an IPython kernel.\n"
     ]
    }
   ],
   "source": [
    "# make NumTrip to int\n",
    "data['NumTrip'] = data['NumTrip'].apply(lambda x: int(x.replace(\",\", \"\")))\n",
    "data.head()"
   ]
  },
  {
   "cell_type": "markdown",
   "metadata": {},
   "source": [
    "## Data exploration\n",
    "\n",
    "We want to see the trend of transportation for travelling in Europe for the last five years. \\\n",
    "Starting by exploring the data, we want to see whether people use **airplane** more frequently now compared with past. \\\n",
    "We will generalize the question to all other kinds of transportation in the next milestone. \\\n",
    "Our assumption to the question is yes."
   ]
  },
  {
   "cell_type": "code",
   "execution_count": 523,
   "metadata": {},
   "outputs": [],
   "source": [
    "# data_total => all columns with category refers to the sum of NumTrip\n",
    "data_total = data[data.Purpose == \"Total\"]\n",
    "data_total = data_total[data_total.Duration == \"1 night or over\"]\n",
    "data_total = data_total[data_total.Partner == \"All countries of the world\"]"
   ]
  },
  {
   "cell_type": "code",
   "execution_count": 524,
   "metadata": {},
   "outputs": [
    {
     "data": {
      "text/html": [
       "<div>\n",
       "<style scoped>\n",
       "    .dataframe tbody tr th:only-of-type {\n",
       "        vertical-align: middle;\n",
       "    }\n",
       "\n",
       "    .dataframe tbody tr th {\n",
       "        vertical-align: top;\n",
       "    }\n",
       "\n",
       "    .dataframe thead th {\n",
       "        text-align: right;\n",
       "    }\n",
       "</style>\n",
       "<table border=\"1\" class=\"dataframe\">\n",
       "  <thead>\n",
       "    <tr style=\"text-align: right;\">\n",
       "      <th></th>\n",
       "      <th>Time</th>\n",
       "      <th>Country</th>\n",
       "      <th>Unit</th>\n",
       "      <th>Purpose</th>\n",
       "      <th>Duration</th>\n",
       "      <th>Partner</th>\n",
       "      <th>Transportation</th>\n",
       "      <th>NumTrip</th>\n",
       "      <th>Flag</th>\n",
       "    </tr>\n",
       "  </thead>\n",
       "  <tbody>\n",
       "    <tr>\n",
       "      <th>14</th>\n",
       "      <td>2014</td>\n",
       "      <td>Belgium</td>\n",
       "      <td>Number</td>\n",
       "      <td>Total</td>\n",
       "      <td>1 night or over</td>\n",
       "      <td>All countries of the world</td>\n",
       "      <td>Total</td>\n",
       "      <td>13031273</td>\n",
       "      <td>NaN</td>\n",
       "    </tr>\n",
       "    <tr>\n",
       "      <th>15</th>\n",
       "      <td>2014</td>\n",
       "      <td>Belgium</td>\n",
       "      <td>Number</td>\n",
       "      <td>Total</td>\n",
       "      <td>1 night or over</td>\n",
       "      <td>All countries of the world</td>\n",
       "      <td>Air</td>\n",
       "      <td>3962198</td>\n",
       "      <td>NaN</td>\n",
       "    </tr>\n",
       "    <tr>\n",
       "      <th>16</th>\n",
       "      <td>2014</td>\n",
       "      <td>Belgium</td>\n",
       "      <td>Number</td>\n",
       "      <td>Total</td>\n",
       "      <td>1 night or over</td>\n",
       "      <td>All countries of the world</td>\n",
       "      <td>Land</td>\n",
       "      <td>8977574</td>\n",
       "      <td>NaN</td>\n",
       "    </tr>\n",
       "    <tr>\n",
       "      <th>17</th>\n",
       "      <td>2014</td>\n",
       "      <td>Belgium</td>\n",
       "      <td>Number</td>\n",
       "      <td>Total</td>\n",
       "      <td>1 night or over</td>\n",
       "      <td>All countries of the world</td>\n",
       "      <td>Railways</td>\n",
       "      <td>839525</td>\n",
       "      <td>NaN</td>\n",
       "    </tr>\n",
       "    <tr>\n",
       "      <th>18</th>\n",
       "      <td>2014</td>\n",
       "      <td>Belgium</td>\n",
       "      <td>Number</td>\n",
       "      <td>Total</td>\n",
       "      <td>1 night or over</td>\n",
       "      <td>All countries of the world</td>\n",
       "      <td>Bus, coach</td>\n",
       "      <td>562748</td>\n",
       "      <td>NaN</td>\n",
       "    </tr>\n",
       "    <tr>\n",
       "      <th>...</th>\n",
       "      <td>...</td>\n",
       "      <td>...</td>\n",
       "      <td>...</td>\n",
       "      <td>...</td>\n",
       "      <td>...</td>\n",
       "      <td>...</td>\n",
       "      <td>...</td>\n",
       "      <td>...</td>\n",
       "      <td>...</td>\n",
       "    </tr>\n",
       "    <tr>\n",
       "      <th>26287</th>\n",
       "      <td>2018</td>\n",
       "      <td>Switzerland</td>\n",
       "      <td>Number</td>\n",
       "      <td>Total</td>\n",
       "      <td>1 night or over</td>\n",
       "      <td>All countries of the world</td>\n",
       "      <td>Land</td>\n",
       "      <td>14911363</td>\n",
       "      <td>NaN</td>\n",
       "    </tr>\n",
       "    <tr>\n",
       "      <th>26288</th>\n",
       "      <td>2018</td>\n",
       "      <td>Switzerland</td>\n",
       "      <td>Number</td>\n",
       "      <td>Total</td>\n",
       "      <td>1 night or over</td>\n",
       "      <td>All countries of the world</td>\n",
       "      <td>Railways</td>\n",
       "      <td>3665052</td>\n",
       "      <td>NaN</td>\n",
       "    </tr>\n",
       "    <tr>\n",
       "      <th>26289</th>\n",
       "      <td>2018</td>\n",
       "      <td>Switzerland</td>\n",
       "      <td>Number</td>\n",
       "      <td>Total</td>\n",
       "      <td>1 night or over</td>\n",
       "      <td>All countries of the world</td>\n",
       "      <td>Bus, coach</td>\n",
       "      <td>625409</td>\n",
       "      <td>NaN</td>\n",
       "    </tr>\n",
       "    <tr>\n",
       "      <th>26290</th>\n",
       "      <td>2018</td>\n",
       "      <td>Switzerland</td>\n",
       "      <td>Number</td>\n",
       "      <td>Total</td>\n",
       "      <td>1 night or over</td>\n",
       "      <td>All countries of the world</td>\n",
       "      <td>Motor vehicle</td>\n",
       "      <td>10541815</td>\n",
       "      <td>NaN</td>\n",
       "    </tr>\n",
       "    <tr>\n",
       "      <th>26291</th>\n",
       "      <td>2018</td>\n",
       "      <td>Switzerland</td>\n",
       "      <td>Number</td>\n",
       "      <td>Total</td>\n",
       "      <td>1 night or over</td>\n",
       "      <td>All countries of the world</td>\n",
       "      <td>Waterway</td>\n",
       "      <td>87450</td>\n",
       "      <td>u</td>\n",
       "    </tr>\n",
       "  </tbody>\n",
       "</table>\n",
       "<p>912 rows × 9 columns</p>\n",
       "</div>"
      ],
      "text/plain": [
       "       Time      Country    Unit Purpose         Duration  \\\n",
       "14     2014      Belgium  Number   Total  1 night or over   \n",
       "15     2014      Belgium  Number   Total  1 night or over   \n",
       "16     2014      Belgium  Number   Total  1 night or over   \n",
       "17     2014      Belgium  Number   Total  1 night or over   \n",
       "18     2014      Belgium  Number   Total  1 night or over   \n",
       "...     ...          ...     ...     ...              ...   \n",
       "26287  2018  Switzerland  Number   Total  1 night or over   \n",
       "26288  2018  Switzerland  Number   Total  1 night or over   \n",
       "26289  2018  Switzerland  Number   Total  1 night or over   \n",
       "26290  2018  Switzerland  Number   Total  1 night or over   \n",
       "26291  2018  Switzerland  Number   Total  1 night or over   \n",
       "\n",
       "                          Partner Transportation   NumTrip Flag  \n",
       "14     All countries of the world          Total  13031273  NaN  \n",
       "15     All countries of the world            Air   3962198  NaN  \n",
       "16     All countries of the world           Land   8977574  NaN  \n",
       "17     All countries of the world       Railways    839525  NaN  \n",
       "18     All countries of the world     Bus, coach    562748  NaN  \n",
       "...                           ...            ...       ...  ...  \n",
       "26287  All countries of the world           Land  14911363  NaN  \n",
       "26288  All countries of the world       Railways   3665052  NaN  \n",
       "26289  All countries of the world     Bus, coach    625409  NaN  \n",
       "26290  All countries of the world  Motor vehicle  10541815  NaN  \n",
       "26291  All countries of the world       Waterway     87450    u  \n",
       "\n",
       "[912 rows x 9 columns]"
      ]
     },
     "execution_count": 524,
     "metadata": {},
     "output_type": "execute_result"
    }
   ],
   "source": [
    "data_total"
   ]
  },
  {
   "cell_type": "code",
   "execution_count": 546,
   "metadata": {},
   "outputs": [
    {
     "data": {
      "text/plain": [
       "(138, 9)"
      ]
     },
     "execution_count": 546,
     "metadata": {},
     "output_type": "execute_result"
    }
   ],
   "source": [
    "# data_total_total => NumTrip by all kinds of transportation in data_total dataframe\n",
    "data_total_total = data_total[data_total.Transportation == \"Total\"]\n",
    "data_total_total.shape"
   ]
  },
  {
   "cell_type": "code",
   "execution_count": 545,
   "metadata": {},
   "outputs": [
    {
     "data": {
      "text/plain": [
       "(138, 9)"
      ]
     },
     "execution_count": 545,
     "metadata": {},
     "output_type": "execute_result"
    }
   ],
   "source": [
    "# data_air => NumTrip by \"air\" only in data_total dataframe\n",
    "data_air = data_total[data_total.Transportation == \"Air\"]\n",
    "data_air.shape"
   ]
  },
  {
   "cell_type": "code",
   "execution_count": 529,
   "metadata": {},
   "outputs": [],
   "source": [
    "data_air_sum = data_air.groupby('Time').NumTrip.agg('sum')"
   ]
  },
  {
   "cell_type": "code",
   "execution_count": 530,
   "metadata": {},
   "outputs": [
    {
     "data": {
      "text/plain": [
       "Time\n",
       "2014    145012772\n",
       "2015    143818376\n",
       "2016    154376514\n",
       "2017    170506158\n",
       "2018    196369808\n",
       "Name: NumTrip, dtype: int64"
      ]
     },
     "execution_count": 530,
     "metadata": {},
     "output_type": "execute_result"
    }
   ],
   "source": [
    "data_air_sum"
   ]
  },
  {
   "cell_type": "code",
   "execution_count": 531,
   "metadata": {},
   "outputs": [],
   "source": [
    "data_total_sum = data_total_total.groupby('Time').NumTrip.agg('sum')"
   ]
  },
  {
   "cell_type": "code",
   "execution_count": 532,
   "metadata": {},
   "outputs": [
    {
     "data": {
      "text/plain": [
       "Time\n",
       "2014    1028189581\n",
       "2015    1015389696\n",
       "2016    1047258292\n",
       "2017    1082257223\n",
       "2018    1049299929\n",
       "Name: NumTrip, dtype: int64"
      ]
     },
     "execution_count": 532,
     "metadata": {},
     "output_type": "execute_result"
    }
   ],
   "source": [
    "data_total_sum"
   ]
  },
  {
   "cell_type": "code",
   "execution_count": 533,
   "metadata": {},
   "outputs": [],
   "source": [
    "data_air_vs_total = pd.concat([data_total_sum, data_air_sum], axis=1)"
   ]
  },
  {
   "cell_type": "code",
   "execution_count": 534,
   "metadata": {},
   "outputs": [],
   "source": [
    "data_air_vs_total.columns = ['Total', 'Air']"
   ]
  },
  {
   "cell_type": "code",
   "execution_count": 535,
   "metadata": {},
   "outputs": [
    {
     "data": {
      "text/html": [
       "<div>\n",
       "<style scoped>\n",
       "    .dataframe tbody tr th:only-of-type {\n",
       "        vertical-align: middle;\n",
       "    }\n",
       "\n",
       "    .dataframe tbody tr th {\n",
       "        vertical-align: top;\n",
       "    }\n",
       "\n",
       "    .dataframe thead th {\n",
       "        text-align: right;\n",
       "    }\n",
       "</style>\n",
       "<table border=\"1\" class=\"dataframe\">\n",
       "  <thead>\n",
       "    <tr style=\"text-align: right;\">\n",
       "      <th></th>\n",
       "      <th>Total</th>\n",
       "      <th>Air</th>\n",
       "    </tr>\n",
       "    <tr>\n",
       "      <th>Time</th>\n",
       "      <th></th>\n",
       "      <th></th>\n",
       "    </tr>\n",
       "  </thead>\n",
       "  <tbody>\n",
       "    <tr>\n",
       "      <th>2014</th>\n",
       "      <td>1028189581</td>\n",
       "      <td>145012772</td>\n",
       "    </tr>\n",
       "    <tr>\n",
       "      <th>2015</th>\n",
       "      <td>1015389696</td>\n",
       "      <td>143818376</td>\n",
       "    </tr>\n",
       "    <tr>\n",
       "      <th>2016</th>\n",
       "      <td>1047258292</td>\n",
       "      <td>154376514</td>\n",
       "    </tr>\n",
       "    <tr>\n",
       "      <th>2017</th>\n",
       "      <td>1082257223</td>\n",
       "      <td>170506158</td>\n",
       "    </tr>\n",
       "    <tr>\n",
       "      <th>2018</th>\n",
       "      <td>1049299929</td>\n",
       "      <td>196369808</td>\n",
       "    </tr>\n",
       "  </tbody>\n",
       "</table>\n",
       "</div>"
      ],
      "text/plain": [
       "           Total        Air\n",
       "Time                       \n",
       "2014  1028189581  145012772\n",
       "2015  1015389696  143818376\n",
       "2016  1047258292  154376514\n",
       "2017  1082257223  170506158\n",
       "2018  1049299929  196369808"
      ]
     },
     "execution_count": 535,
     "metadata": {},
     "output_type": "execute_result"
    }
   ],
   "source": [
    "data_air_vs_total"
   ]
  },
  {
   "cell_type": "code",
   "execution_count": 536,
   "metadata": {},
   "outputs": [],
   "source": [
    "data_air_vs_total['Percentage'] = data_air_vs_total.apply(lambda row: row['Air'] / row['Total'], axis=1)"
   ]
  },
  {
   "cell_type": "code",
   "execution_count": 537,
   "metadata": {},
   "outputs": [
    {
     "data": {
      "text/html": [
       "<div>\n",
       "<style scoped>\n",
       "    .dataframe tbody tr th:only-of-type {\n",
       "        vertical-align: middle;\n",
       "    }\n",
       "\n",
       "    .dataframe tbody tr th {\n",
       "        vertical-align: top;\n",
       "    }\n",
       "\n",
       "    .dataframe thead th {\n",
       "        text-align: right;\n",
       "    }\n",
       "</style>\n",
       "<table border=\"1\" class=\"dataframe\">\n",
       "  <thead>\n",
       "    <tr style=\"text-align: right;\">\n",
       "      <th></th>\n",
       "      <th>Total</th>\n",
       "      <th>Air</th>\n",
       "      <th>Percentage</th>\n",
       "    </tr>\n",
       "    <tr>\n",
       "      <th>Time</th>\n",
       "      <th></th>\n",
       "      <th></th>\n",
       "      <th></th>\n",
       "    </tr>\n",
       "  </thead>\n",
       "  <tbody>\n",
       "    <tr>\n",
       "      <th>2014</th>\n",
       "      <td>1028189581</td>\n",
       "      <td>145012772</td>\n",
       "      <td>0.141037</td>\n",
       "    </tr>\n",
       "    <tr>\n",
       "      <th>2015</th>\n",
       "      <td>1015389696</td>\n",
       "      <td>143818376</td>\n",
       "      <td>0.141639</td>\n",
       "    </tr>\n",
       "    <tr>\n",
       "      <th>2016</th>\n",
       "      <td>1047258292</td>\n",
       "      <td>154376514</td>\n",
       "      <td>0.147410</td>\n",
       "    </tr>\n",
       "    <tr>\n",
       "      <th>2017</th>\n",
       "      <td>1082257223</td>\n",
       "      <td>170506158</td>\n",
       "      <td>0.157547</td>\n",
       "    </tr>\n",
       "    <tr>\n",
       "      <th>2018</th>\n",
       "      <td>1049299929</td>\n",
       "      <td>196369808</td>\n",
       "      <td>0.187144</td>\n",
       "    </tr>\n",
       "  </tbody>\n",
       "</table>\n",
       "</div>"
      ],
      "text/plain": [
       "           Total        Air  Percentage\n",
       "Time                                   \n",
       "2014  1028189581  145012772    0.141037\n",
       "2015  1015389696  143818376    0.141639\n",
       "2016  1047258292  154376514    0.147410\n",
       "2017  1082257223  170506158    0.157547\n",
       "2018  1049299929  196369808    0.187144"
      ]
     },
     "execution_count": 537,
     "metadata": {},
     "output_type": "execute_result"
    }
   ],
   "source": [
    "data_air_vs_total"
   ]
  },
  {
   "cell_type": "markdown",
   "metadata": {},
   "source": [
    "## Date visualization"
   ]
  },
  {
   "cell_type": "code",
   "execution_count": 539,
   "metadata": {},
   "outputs": [
    {
     "data": {
      "image/png": "[encoded data removed]",
      "text/plain": [
       "<Figure size 1440x720 with 1 Axes>"
      ]
     },
     "metadata": {
      "needs_background": "light"
     },
     "output_type": "display_data"
    }
   ],
   "source": [
    "import matplotlib.pyplot as plt\n",
    "plt.figure(figsize=(20,10))\n",
    "plt.rc('xtick', labelsize=20) \n",
    "plt.rc('ytick', labelsize=20) \n",
    "plt.plot(data_air_vs_total.Percentage)\n",
    "plt.xlabel(\"year\", fontsize=20)\n",
    "plt.ylabel(\"percentage\", fontsize=20)\n",
    "plt.title(\"Number of trips by airplane over all travel modes\", fontsize=20)\n",
    "plt.show()"
   ]
  },
  {
   "cell_type": "markdown",
   "metadata": {},
   "source": [
    "## What to do in the next milestone\n",
    "* Analyze trips in Europe by means of all transportations (not only by airplane)\n",
    "* Analyze the trend of trip purpose (personal vs business, etc)"
   ]
  },
  {
   "cell_type": "code",
   "execution_count": null,
   "metadata": {},
   "outputs": [],
   "source": []
  },
  {
   "cell_type": "code",
   "execution_count": 540,
   "metadata": {},
   "outputs": [],
   "source": [
    "\n",
    "\n",
    "# data_transportation_sum_by_year = data_countries.groupby(['TIME']).Value.agg('sum')\n",
    "\n",
    "# data_transportation = data_countries.groupby(['TIME', 'TRA_MODE']).apply(lambda x: sum(x.Value))\n",
    "\n",
    "# data_transportation\n",
    "\n",
    "# all_tra_mode_sum = [x.iloc[0].Value + x.iloc[1].Value + x.iloc[2].Value for x in data_transportation]\n",
    "\n",
    "# for i in range(2014, 2019):\n",
    "#     all_tra_mode_sum.append()\n",
    "\n",
    "# data_transportation_list = []\n",
    "# for year in range(2014, 2019):\n",
    "#     data_year = data_countries[data_countries.TIME == year]\n",
    "#     data_year_transportation = data_year.groupby('TRA_MODE').apply(lambda x: sum(x.Value))\n",
    "#     data_year_transportation_df = data_year_transportation.to_frame()\n",
    "#     data_year_transportation_df = data_year_transportation_df.rename(columns={0:'Value'})\n",
    "# #     data_year_transportation_df['Percentage'] = data_year_transportation_df['Value'].apply(lambda x: 100 * x / data_transportation_sum_by_year.values[year - 2009])    \n",
    "#     data_transportation_list.append(data_year_transportation_df)\n",
    "\n",
    "\n",
    "\n",
    "# air_values = [x.iloc[0].Value for x in data_transportation_list]\n",
    "\n",
    "# air_values\n",
    "\n"
   ]
  },
  {
   "cell_type": "code",
   "execution_count": null,
   "metadata": {},
   "outputs": [],
   "source": []
  },
  {
   "cell_type": "code",
   "execution_count": null,
   "metadata": {},
   "outputs": [],
   "source": []
  }
 ],
 "metadata": {
  "kernelspec": {
   "display_name": "Python 3",
   "language": "python",
   "name": "python3"
  },
  "language_info": {
   "codemirror_mode": {
    "name": "ipython",
    "version": 3
   },
   "file_extension": ".py",
   "mimetype": "text/x-python",
   "name": "python",
   "nbconvert_exporter": "python",
   "pygments_lexer": "ipython3",
   "version": "3.7.3"
  }
 },
 "nbformat": 4,
 "nbformat_minor": 2
}
